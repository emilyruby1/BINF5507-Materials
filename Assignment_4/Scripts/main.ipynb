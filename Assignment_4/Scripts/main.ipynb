{
 "cells": [
  {
   "cell_type": "code",
   "execution_count": 1,
   "id": "b9cb1151",
   "metadata": {},
   "outputs": [],
   "source": [
    "# Import necessary libraries\n",
    "import pandas as pd\n",
    "import numpy as np\n",
    "import matplotlib.pyplot as plt\n",
    "from lifelines import KaplanMeierFitter, CoxPHFitter\n",
    "from lifelines.statistics import logrank_test\n",
    "from lifelines.utils import k_fold_cross_validation\n",
    "from sklearn.preprocessing import LabelEncoder"
   ]
  },
  {
   "cell_type": "code",
   "execution_count": null,
   "id": "7f013d16",
   "metadata": {},
   "outputs": [],
   "source": [
    "# Load the dataset\n",
    "df = pd.read_csv(\"../Data/RADCURE_Clinical_v04_20241219.csv\")"
   ]
  },
  {
   "cell_type": "code",
   "execution_count": 3,
   "id": "629ce190",
   "metadata": {},
   "outputs": [],
   "source": [
    "# Clean and preprocess the dataset\n",
    "\n",
    "# Subset and rename relevant columns\n",
    "df = df[['patient_id', 'Age', 'Stage', 'Chemo', 'Length FU', 'Status']].copy()\n",
    "df.rename(columns={'Length FU': 'time', 'Status': 'event'}, inplace=True)\n",
    "\n",
    "df['event'] = df['event'].str.strip().str.lower().apply(lambda x: 1 if x in ['dead', 'deceased'] else 0)\n",
    "\n",
    "# Group Stage\n",
    "def group_stage(stage):\n",
    "    if pd.isna(stage):\n",
    "        return np.nan\n",
    "    if str(stage).startswith(('I', 'II')):\n",
    "        return 'Stage I–II'\n",
    "    return 'Stage III–IV'\n",
    "\n",
    "df['Stage_Group'] = df['Stage'].apply(group_stage)\n",
    "\n",
    "# Drop missing rows\n",
    "df = df.dropna(subset=['time', 'event', 'Age', 'Stage_Group', 'Chemo'])"
   ]
  }
 ],
 "metadata": {
  "kernelspec": {
   "display_name": "Python 3",
   "language": "python",
   "name": "python3"
  },
  "language_info": {
   "codemirror_mode": {
    "name": "ipython",
    "version": 3
   },
   "file_extension": ".py",
   "mimetype": "text/x-python",
   "name": "python",
   "nbconvert_exporter": "python",
   "pygments_lexer": "ipython3",
   "version": "3.12.1"
  }
 },
 "nbformat": 4,
 "nbformat_minor": 5
}
