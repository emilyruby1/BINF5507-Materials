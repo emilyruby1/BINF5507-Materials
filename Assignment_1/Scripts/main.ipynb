{
 "cells": [
  {
   "cell_type": "code",
   "execution_count": 1,
   "metadata": {},
   "outputs": [],
   "source": [
    "# Import necessary modules\n",
    "import data_preprocessor as dp\n",
    "import pandas as pd\n",
    "from sklearn.linear_model import LogisticRegression\n",
    "from sklearn.metrics import accuracy_score\n",
    "\n",
    "# 1. Load the dataset\n",
    "messy_data = pd.read_csv('../Data/messy_data.csv')\n",
    "clean_data = messy_data.copy()\n",
    "\n",
    "# 2. Preprocess the data\n",
    "#clean_data = dp.impute_missing_values(clean_data, strategy='mean')\n",
    "#clean_data = dp.remove_duplicates(clean_data)\n",
    "#clean_data = dp.normalize_data(clean_data)\n",
    "#clean_data = dp.remove_redundant_features(clean_data)\n",
    "\n",
    "# 3. Save the cleaned dataset\n",
    "# clean_data.to_csv('../Data/clean_data.csv', index=False)\n",
    "\n",
    "# 4. Train and evaluate the model\n",
    "#simple_model(clean_data)"
   ]
  },
  {
   "cell_type": "code",
   "execution_count": 2,
   "metadata": {},
   "outputs": [
    {
     "name": "stdout",
     "output_type": "stream",
     "text": [
      "Missing values BEFORE imputation:\n",
      "target    276\n",
      "a           3\n",
      "b           0\n",
      "c           0\n",
      "d         635\n",
      "e           0\n",
      "f           0\n",
      "g           0\n",
      "h          38\n",
      "i         109\n",
      "j         605\n",
      "k           0\n",
      "l           0\n",
      "m         418\n",
      "n         184\n",
      "o         188\n",
      "p          74\n",
      "q         187\n",
      "r           0\n",
      "s           0\n",
      "t          86\n",
      "u         117\n",
      "v          80\n",
      "w         117\n",
      "x         799\n",
      "y           0\n",
      "z         598\n",
      "{          74\n",
      "dtype: int64\n",
      "\n",
      "Missing values AFTER imputation:\n",
      "target    0\n",
      "a         0\n",
      "b         0\n",
      "c         0\n",
      "d         0\n",
      "e         0\n",
      "f         0\n",
      "g         0\n",
      "h         0\n",
      "i         0\n",
      "j         0\n",
      "k         0\n",
      "l         0\n",
      "m         0\n",
      "n         0\n",
      "o         0\n",
      "p         0\n",
      "q         0\n",
      "r         0\n",
      "s         0\n",
      "t         0\n",
      "u         0\n",
      "v         0\n",
      "w         0\n",
      "x         0\n",
      "y         0\n",
      "z         0\n",
      "{         0\n",
      "dtype: int64\n"
     ]
    },
    {
     "name": "stderr",
     "output_type": "stream",
     "text": [
      "/home/codespace/BINF5507-Materials/Assignment_1/Scripts/data_preprocessor.py:21: FutureWarning: Downcasting object dtype arrays on .fillna, .ffill, .bfill is deprecated and will change in a future version. Call result.infer_objects(copy=False) instead. To opt-in to the future behavior, set `pd.set_option('future.no_silent_downcasting', True)`\n",
      "  df[col] = df[col].fillna(mode_value[0])\n"
     ]
    }
   ],
   "source": [
    "print(\"Missing values BEFORE imputation:\")\n",
    "print(clean_data.isnull().sum())\n",
    "\n",
    "# 2. Preprocess the data\n",
    "clean_data = dp.impute_missing_values(clean_data, strategy='mean')\n",
    "\n",
    "# 🔍 Check missing values after imputation\n",
    "print(\"\\nMissing values AFTER imputation:\")\n",
    "print(clean_data.isnull().sum())"
   ]
  },
  {
   "cell_type": "code",
   "execution_count": null,
   "metadata": {},
   "outputs": [],
   "source": []
  }
 ],
 "metadata": {
  "kernelspec": {
   "display_name": "Python 3",
   "language": "python",
   "name": "python3"
  },
  "language_info": {
   "codemirror_mode": {
    "name": "ipython",
    "version": 3
   },
   "file_extension": ".py",
   "mimetype": "text/x-python",
   "name": "python",
   "nbconvert_exporter": "python",
   "pygments_lexer": "ipython3",
   "version": "3.12.1"
  }
 },
 "nbformat": 4,
 "nbformat_minor": 2
}
