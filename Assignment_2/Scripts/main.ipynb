{
 "cells": [
  {
   "cell_type": "code",
   "execution_count": 3,
   "id": "d7a6d5c8",
   "metadata": {},
   "outputs": [],
   "source": [
    "import pandas as pd\n",
    "from sklearn.model_selection import train_test_split\n",
    "df = pd.read_csv('../Data/heart_disease_uci.csv')"
   ]
  },
  {
   "cell_type": "code",
   "execution_count": 4,
   "id": "39804a16",
   "metadata": {},
   "outputs": [],
   "source": [
    "x_regression = df.drop(columns=['chol', 'num'])\n",
    "y_regression = df['chol']\n"
   ]
  },
  {
   "cell_type": "code",
   "execution_count": 6,
   "id": "9ae0b809",
   "metadata": {},
   "outputs": [],
   "source": [
    "x_train_reg, x_test_reg, y_train_reg, y_test_reg = train_test_split(x_regression, y_regression, test_size=0.2, random_state=42)"
   ]
  },
  {
   "cell_type": "code",
   "execution_count": null,
   "id": "2e852921",
   "metadata": {},
   "outputs": [],
   "source": [
    "# Check if `num` is binary or multiclass\n",
    "print(df['num'].value_counts())\n",
    "\n",
    "# Optionally convert to binary classification (0 = no disease, 1 = disease)\n",
    "# You can skip this if you want multiclass classification\n",
    "df['num'] = df['num'].apply(lambda x: 1 if x > 0 else 0)\n",
    "\n",
    "# Features and target\n",
    "X_clf = df.drop(columns=['num', 'chol'])  # remove targets\n",
    "y_clf = df['num']\n",
    "\n",
    "# Split\n",
    "X_train_clf, X_test_clf, y_train_clf, y_test_clf = train_test_split(\n",
    "    X_clf, y_clf, test_size=0.2, random_state=42\n",
    ")\n"
   ]
  }
 ],
 "metadata": {
  "kernelspec": {
   "display_name": "Python 3",
   "language": "python",
   "name": "python3"
  },
  "language_info": {
   "codemirror_mode": {
    "name": "ipython",
    "version": 3
   },
   "file_extension": ".py",
   "mimetype": "text/x-python",
   "name": "python",
   "nbconvert_exporter": "python",
   "pygments_lexer": "ipython3",
   "version": "3.12.1"
  }
 },
 "nbformat": 4,
 "nbformat_minor": 5
}
