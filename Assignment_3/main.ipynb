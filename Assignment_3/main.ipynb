{
 "cells": [
  {
   "cell_type": "code",
   "execution_count": 1,
   "id": "a17d8ef9",
   "metadata": {},
   "outputs": [],
   "source": [
    "import matplotlib.pyplot as plt\n",
    "import seaborn as sns\n",
    "from sklearn.datasets import make_moons, make_blobs\n",
    "from sklearn.cluster import DBSCAN, KMeans, AgglomerativeClustering\n",
    "from sklearn.preprocessing import StandardScaler"
   ]
  },
  {
   "cell_type": "code",
   "execution_count": 2,
   "id": "5502bf7d",
   "metadata": {},
   "outputs": [],
   "source": [
    "sns.set(style=\"whitegrid\")"
   ]
  },
  {
   "cell_type": "code",
   "execution_count": 3,
   "id": "4855b328",
   "metadata": {},
   "outputs": [],
   "source": [
    "x_moons, _ = make_moons(n_samples=300, noise=0.05, random_state=42)"
   ]
  },
  {
   "cell_type": "code",
   "execution_count": 4,
   "id": "f8d2ba80",
   "metadata": {},
   "outputs": [],
   "source": [
    "x_blobs, _ = make_blobs(n_samples=300, centers=3, cluster_std=[1.0, 2.5, 0.5], random_state=42)"
   ]
  },
  {
   "cell_type": "code",
   "execution_count": 5,
   "id": "9a2a8314",
   "metadata": {},
   "outputs": [],
   "source": [
    "scaler = StandardScaler()\n",
    "x_moons_scaled = scaler.fit_transform(x_moons)\n",
    "x_blobs_scaled = scaler.fit_transform(x_blobs)"
   ]
  },
  {
   "cell_type": "code",
   "execution_count": null,
   "id": "2dc0c535",
   "metadata": {},
   "outputs": [],
   "source": [
    "def apply_clustering(X, name):\n",
    "    return {\n",
    "        \"DBSCAN\": DBSCAN(eps=0.3 if name == \"moons\" else 0.5, min_smaples=5).fit_predict(X), \n",
    "        \"KMeans\": KMeans(n_clusters=2 if name == \"moons\" else 3, random_state=42). fit_predict(X),\n",
    "        \"Hierarchical\": AgglomerativeClustering(n_clusters=2, if name == \"moons\" else 3).fit_predict(X)\n",
    "    }\n",
    "\n",
    "labels_moons = apply_clustering(x_moons_scaled, \"moons\")\n",
    "labels_blobs = apply_clustering(x_blobs_scaled, \"blobs\")"
   ]
  },
  {
   "cell_type": "code",
   "execution_count": null,
   "id": "0f321392",
   "metadata": {},
   "outputs": [],
   "source": [
    "\n",
    "\n",
    "\n",
    "\n",
    "\n",
    "# --------------------------------------\n",
    "# Plotting Function\n",
    "# --------------------------------------\n",
    "def plot_clusters(X, labels_dict, title_prefix, filename):\n",
    "    \"\"\"Creates and saves scatter plots for clustering results.\"\"\"\n",
    "    fig, axes = plt.subplots(1, 3, figsize=(18, 5))\n",
    "    for ax, (name, labels) in zip(axes, labels_dict.items()):\n",
    "        scatter = ax.scatter(X[:, 0], X[:, 1], c=labels, cmap='viridis', s=30, edgecolor='k')\n",
    "        ax.set_title(f\"{title_prefix} - {name}\")\n",
    "        ax.set_xlabel(\"Feature 1\")\n",
    "        ax.set_ylabel(\"Feature 2\")\n",
    "    plt.tight_layout()\n",
    "    plt.savefig(filename)\n",
    "    plt.show()\n",
    "\n",
    "# --------------------------------------\n",
    "# Generate and Save Plots\n",
    "# --------------------------------------\n",
    "plot_clusters(X_moons_scaled, labels_moons, \"make_moons (DBSCAN Performs Well)\", \"moons_clusters.png\")\n",
    "plot_clusters(X_blobs_scaled, labels_blobs, \"make_blobs (DBSCAN Struggles)\", \"blobs_clusters.png\")\n"
   ]
  }
 ],
 "metadata": {
  "kernelspec": {
   "display_name": "Python 3",
   "language": "python",
   "name": "python3"
  },
  "language_info": {
   "codemirror_mode": {
    "name": "ipython",
    "version": 3
   },
   "file_extension": ".py",
   "mimetype": "text/x-python",
   "name": "python",
   "nbconvert_exporter": "python",
   "pygments_lexer": "ipython3",
   "version": "3.12.1"
  }
 },
 "nbformat": 4,
 "nbformat_minor": 5
}
